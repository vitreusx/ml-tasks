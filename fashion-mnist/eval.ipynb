{
 "cells": [
  {
   "cell_type": "code",
   "execution_count": 1,
   "metadata": {},
   "outputs": [],
   "source": [
    "import numpy as np\n",
    "import pandas as pd\n",
    "import torch"
   ]
  },
  {
   "cell_type": "code",
   "execution_count": 2,
   "metadata": {},
   "outputs": [
    {
     "name": "stderr",
     "output_type": "stream",
     "text": [
      "<ipython-input-2-0a379713a3cb>:14: FutureWarning: The input object of type 'Image' is an array-like implementing one of the corresponding protocols (`__array__`, `__array_interface__` or `__array_struct__`); but not a sequence (or 0-D). In the future, this object will be coerced as if it was first converted using `np.array(obj)`. To retain the old behaviour, you have to either modify the type 'Image', or assign to an empty array created with `np.empty(correct_shape, dtype=object)`.\n",
      "  return np.array([Image.frombytes('L', (rows, cols), file.read(rows * cols))\n"
     ]
    }
   ],
   "source": [
    "from pathlib import Path\n",
    "from torch.utils.data import Dataset\n",
    "from PIL import Image\n",
    "\n",
    "class FashionMNIST:\n",
    "    def load_images(self, fpath):\n",
    "        file = open(fpath, 'rb')\n",
    "        \n",
    "        file.read(4) # magic number\n",
    "        nimages = int.from_bytes(file.read(4), 'big')\n",
    "        rows = int.from_bytes(file.read(4), 'big')\n",
    "        cols = int.from_bytes(file.read(4),'big')\n",
    "        \n",
    "        return np.array([Image.frombytes('L', (rows, cols), file.read(rows * cols))\n",
    "                         for n in range(nimages)], dtype=object)\n",
    "    \n",
    "    def load_labels(self, fpath):\n",
    "        file = open(fpath, 'rb')\n",
    "        \n",
    "        file.read(4) # magic number\n",
    "        nlabels = int.from_bytes(file.read(4),'big')\n",
    "        labels = file.read(nlabels)\n",
    "        \n",
    "        return np.frombuffer(labels, dtype=np.uint8).astype(np.int64)\n",
    "    \n",
    "    def __init__(self, images, labels=None):\n",
    "        self.images = self.load_images(images)\n",
    "        if labels is not None:\n",
    "            self.labels = self.load_labels(labels)\n",
    "\n",
    "root = Path('data', 'FashionMNIST', 'raw')\n",
    "test_images = Path(root, 't10k-images-idx3-ubyte')\n",
    "test_labels = Path(root, 't10k-labels-idx1-ubyte')\n",
    "test_mnist = FashionMNIST(test_images, test_labels)"
   ]
  },
  {
   "cell_type": "code",
   "execution_count": 3,
   "metadata": {},
   "outputs": [],
   "source": [
    "perfect = pd.DataFrame(data=[{'Id': ix, 'Class': pred}\n",
    "                             for ix, pred in enumerate(test_mnist.labels)])\n",
    "perfect.to_csv(Path('preds', 'perfect.csv'),\n",
    "               index=False)"
   ]
  },
  {
   "cell_type": "code",
   "execution_count": 8,
   "metadata": {},
   "outputs": [
    {
     "name": "stdout",
     "output_type": "stream",
     "text": [
      "Accuracy: 0.9404 (9404/10000)\n"
     ]
    }
   ],
   "source": [
    "uid = '65ab42b0-158d-4ced-9a88-54087c519635'\n",
    "checked = pd.read_csv('~/xdg/dl/{}.csv'.format(uid))\n",
    "assert(len(perfect['Class']) == len(checked['Class']))\n",
    "\n",
    "total = len(perfect['Class'])\n",
    "correct = np.sum(perfect['Class'] == checked['Class'])\n",
    "print('Accuracy: {} ({}/{})'.format(correct/total, correct, total))"
   ]
  },
  {
   "cell_type": "code",
   "execution_count": null,
   "metadata": {},
   "outputs": [],
   "source": []
  }
 ],
 "metadata": {
  "kernelspec": {
   "display_name": "Python 3",
   "language": "python",
   "name": "python3"
  },
  "language_info": {
   "codemirror_mode": {
    "name": "ipython",
    "version": 3
   },
   "file_extension": ".py",
   "mimetype": "text/x-python",
   "name": "python",
   "nbconvert_exporter": "python",
   "pygments_lexer": "ipython3",
   "version": "3.9.1"
  }
 },
 "nbformat": 4,
 "nbformat_minor": 4
}
