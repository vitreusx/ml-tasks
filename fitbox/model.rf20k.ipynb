{
 "cells": [
  {
   "source": [
    "# Project 2\n",
    "Author: Jakub Bednarz\n",
    "\n",
    "To be quite honest, there's not much to tell; I pick a sample of 20k records from the train dataset, train a pipeline composed of:\n",
    "\n",
    "- imputer for numerical features;\n",
    "- one-hot encoder for categorical features;\n",
    "- a `SelectKBest(k = 32)`;\n",
    "- an untuned `RandomForestRegressor`.\n",
    "\n",
    "and perform 5-fold CV to check if it overfits or not."
   ],
   "cell_type": "markdown",
   "metadata": {}
  },
  {
   "cell_type": "code",
   "execution_count": 1,
   "id": "05fc2637-07b2-4fdc-b00d-2cf8dd09d802",
   "metadata": {},
   "outputs": [],
   "source": [
    "import numpy as np\n",
    "import matplotlib.pyplot as plt\n",
    "import seaborn as sns\n",
    "import pandas as pd\n",
    "%matplotlib widget"
   ]
  },
  {
   "cell_type": "code",
   "execution_count": 2,
   "id": "2d699131-d36a-4677-b537-a32f0f27ba2b",
   "metadata": {},
   "outputs": [],
   "source": [
    "import random\n",
    "\n",
    "seed = 666\n",
    "random.seed(seed)\n",
    "np.random.seed(seed)"
   ]
  },
  {
   "cell_type": "code",
   "execution_count": 3,
   "id": "ca55f012-03dd-486f-9684-75db682b231c",
   "metadata": {},
   "outputs": [],
   "source": [
    "X_path = 'data/SUS_project_training_data.csv'\n",
    "y_path = 'data/training_targets.txt'\n",
    "test_path = 'data/SUS_project_test_data.csv'\n",
    "\n",
    "file = open(y_path, 'r', encoding='latin-1')\n",
    "nrecords = sum(1 for line in file) - 1"
   ]
  },
  {
   "cell_type": "code",
   "execution_count": 4,
   "id": "c1d984d2-b760-405f-9cb6-ac5167224964",
   "metadata": {},
   "outputs": [],
   "source": [
    "def any_sample(n):\n",
    "    index = np.arange(nrecords)\n",
    "    selected = np.sort(np.random.choice(index, n))\n",
    "    skipped = np.setdiff1d(index, selected)\n",
    "\n",
    "    _X = pd.read_csv(X_path, sep=';', encoding='latin-1',\n",
    "                    skiprows=1+skipped)\n",
    "\n",
    "    _y = pd.read_csv(y_path, sep=';', names=['y'],\n",
    "                    encoding='latin-1', header=None, \n",
    "                    skiprows=skipped)\n",
    "    \n",
    "    return (_X, _y.y.ravel())"
   ]
  },
  {
   "cell_type": "code",
   "execution_count": 30,
   "id": "5eae280f-0efa-4563-82b9-b1b418341911",
   "metadata": {},
   "outputs": [],
   "source": [
    "X, y = any_sample(20000)"
   ]
  },
  {
   "cell_type": "code",
   "execution_count": 31,
   "id": "ecbd89ae-e182-406c-9dfa-7bc21b13c1e6",
   "metadata": {},
   "outputs": [],
   "source": [
    "num_feat = X.dtypes[X.dtypes != object].index\n",
    "cat_feat = X.dtypes[X.dtypes == object].index"
   ]
  },
  {
   "cell_type": "code",
   "execution_count": 32,
   "id": "15327acc-d932-4737-b508-a5d3e99478e0",
   "metadata": {},
   "outputs": [],
   "source": [
    "from sklearn.preprocessing import FunctionTransformer, OneHotEncoder\n",
    "from sklearn.feature_selection import VarianceThreshold\n",
    "from sklearn.impute import SimpleImputer\n",
    "from sklearn.compose import ColumnTransformer\n",
    "from sklearn.pipeline import Pipeline\n",
    "\n",
    "class NamefulSimpleImputer(SimpleImputer):\n",
    "    def __init__(self):\n",
    "        super(NamefulSimpleImputer, self).__init__(\n",
    "            add_indicator = True)\n",
    "    \n",
    "    def fit(self, X, y = None):\n",
    "        super().fit(X, y)\n",
    "        \n",
    "        if isinstance(X, (pd.DataFrame, pd.Series)):\n",
    "            self.features = list(X.columns)\n",
    "        else:\n",
    "            self.features = [str(x) for x in range(X.shape[1])]\n",
    "        \n",
    "        self.features = [\n",
    "            *self.features,\n",
    "            *(self.features[idx] + '_isna' \n",
    "              for idx in self.indicator_.features_)\n",
    "        ]\n",
    "        \n",
    "        return self\n",
    "    \n",
    "    def transform(self, X):\n",
    "        tX = super().transform(X)\n",
    "        \n",
    "        if isinstance(X, (pd.DataFrame, pd.Series)):\n",
    "            return pd.DataFrame(\n",
    "                data = tX,\n",
    "                columns = self.get_feature_names())\n",
    "        else:\n",
    "            return tX\n",
    "    \n",
    "    def get_feature_names(self):\n",
    "        return self.features\n",
    "\n",
    "prep = Pipeline([\n",
    "    ('ct', ColumnTransformer([\n",
    "        ('num', NamefulSimpleImputer(), num_feat),\n",
    "        ('cat', OneHotEncoder(handle_unknown='ignore'), cat_feat),\n",
    "    ])),\n",
    "    ('nonzero_var', VarianceThreshold()),\n",
    "])"
   ]
  },
  {
   "cell_type": "code",
   "execution_count": 33,
   "id": "4ef54c0f-0442-4314-b39a-9b942efa59a5",
   "metadata": {},
   "outputs": [],
   "source": [
    "from sklearn.preprocessing import StandardScaler\n",
    "from sklearn.feature_selection import SelectKBest, VarianceThreshold\n",
    "from sklearn.decomposition import TruncatedSVD\n",
    "from sklearn.linear_model import ElasticNetCV\n",
    "from sklearn.svm import LinearSVR, SVR\n",
    "from sklearn.ensemble import RandomForestRegressor, ExtraTreesRegressor\n",
    "\n",
    "# model = SVR()\n",
    "model = RandomForestRegressor(n_jobs=-1)\n",
    "# model = ExtraTreesRegressor(n_jobs=-1)\n",
    "\n",
    "pipe = Pipeline([\n",
    "    ('prep', prep),\n",
    "    ('fsel', SelectKBest(k=32)),\n",
    "#     ('scale', StandardScaler(with_mean=False)),\n",
    "    ('model', model)\n",
    "])"
   ]
  },
  {
   "cell_type": "code",
   "execution_count": 34,
   "id": "142f617c-be42-498b-b164-2c87d16a5153",
   "metadata": {},
   "outputs": [
    {
     "data": {
      "text/plain": [
       "array([0.48244448, 0.51116721, 0.47507883, 0.5367601 , 0.49635531])"
      ]
     },
     "execution_count": 34,
     "metadata": {},
     "output_type": "execute_result"
    }
   ],
   "source": [
    "from sklearn.model_selection import cross_val_score\n",
    "from sklearn.metrics import r2_score\n",
    "cross_val_score(pipe, X, y, scoring='r2')\n"
   ]
  },
  {
   "cell_type": "code",
   "execution_count": 35,
   "id": "f7d1f2b3-1cdf-46c3-b4a6-8e48e49c2d1a",
   "metadata": {},
   "outputs": [],
   "source": [
    "pipe.fit(X, y)\n",
    "test_X = pd.read_csv(test_path, sep=';', encoding='latin-1')\n",
    "test_pred = pipe.predict(test_X)\n",
    "test_pred[test_pred < 0] = 0\n",
    "test_pred_df = pd.DataFrame(data = test_pred)\n",
    "test_pred_df.to_csv('res.txt', index=False, header=None)"
   ]
  },
  {
   "cell_type": "code",
   "execution_count": 36,
   "id": "33a91290-005c-4d5f-bf6b-d411a5e1bcac",
   "metadata": {},
   "outputs": [
    {
     "data": {
      "text/plain": [
       "0.5138471331058332"
      ]
     },
     "execution_count": 36,
     "metadata": {},
     "output_type": "execute_result"
    }
   ],
   "source": [
    "X_val, y_val = any_sample(500000)\n",
    "y_pred = pipe.predict(X_val)\n",
    "r2_score(y_val, y_pred)"
   ]
  }
 ],
 "metadata": {
  "kernelspec": {
   "display_name": "Python 3",
   "language": "python",
   "name": "python3"
  },
  "language_info": {
   "codemirror_mode": {
    "name": "ipython",
    "version": 3
   },
   "file_extension": ".py",
   "mimetype": "text/x-python",
   "name": "python",
   "nbconvert_exporter": "python",
   "pygments_lexer": "ipython3",
   "version": "3.9.5"
  }
 },
 "nbformat": 4,
 "nbformat_minor": 5
}